{
  "nbformat": 4,
  "nbformat_minor": 0,
  "metadata": {
    "colab": {
      "name": "MagentaFirstProject",
      "provenance": [],
      "authorship_tag": "ABX9TyPfmN5gEIk9GM75N3zOLTps",
      "include_colab_link": true
    },
    "kernelspec": {
      "name": "python3",
      "display_name": "Python 3"
    },
    "language_info": {
      "name": "python"
    }
  },
  "cells": [
    {
      "cell_type": "markdown",
      "metadata": {
        "id": "view-in-github",
        "colab_type": "text"
      },
      "source": [
        "<a href=\"https://colab.research.google.com/github/oyanek/MagentaTeam/blob/main/MagentaFirstProject.ipynb\" target=\"_parent\"><img src=\"https://colab.research.google.com/assets/colab-badge.svg\" alt=\"Open In Colab\"/></a>"
      ]
    },
    {
      "cell_type": "markdown",
      "source": [
        "# First Magenta Music Project\n",
        "###### (please see [install documentation](https://colab.research.google.com/drive/1-jD47-oixsftvv-CGzDRckPTlkwg6q-u?usp=sharing) if you haven't already)\n",
        "\n",
        "**Step 1:** Dowload the pre-trained model [here](https://www.youtube.com/redirect?event=video_description&redir_token=QUFFLUhqay03aGFQV0pLVXp6b2VqV0JmYm5DUHVaTWQyUXxBQ3Jtc0tsc0NPcThtMWM1LTd1SFc0Skx6ekEzTVlWWml5VjVpYlIzaUdpU0N1Ri1ZNWxSNVRSc2ZPS1NUbW13bEFWalJ0OThhckNXTWxaYTZyM2FxMUlfaWhrLU9YaV9LU19TU0hrVGFQMGxqM05XdjFnbDhrWQ&q=https%3A%2F%2Fwww.dropbox.com%2Fs%2Ft6pm40dn9d8yomd%2Fmagenta.zip%3Fdl%3D1&v=2f20d0LJSuk\n",
        ") (will show youtube, click go to site). Unzip the folder in your downloads.\n",
        "\n",
        "**Step 2:** Open the powershell/terminal and ensure that you are in magenta environment, your shell should look like this.\n",
        "\n",
        "**Step 2:** Create a new directory. Can be named anything for this example we will use the name MagentaProject1.\n",
        "~~~\n",
        "$ mkdir MagentaProject1\n",
        "~~~\n",
        "\n",
        "**Step 3:** In your environment cd back to the root and up to your downloads folder where. \n",
        "~~~\n",
        "$ cd /\n",
        "$ cd /mnt/c/user/downloads/magenta\n",
        "~~~\n",
        "\n",
        "**Step 4:** Move the contents of the downloaded folder into your new directory.\n",
        "\n",
        "~~~\n",
        "$ mv * /home/user/MagentaProject1\n",
        "~~~\n",
        "\n",
        "**Step 5:** Generate 3 basic melodies by configuring the different models as follows.\n",
        "\n",
        "~~~\n",
        "#Baseline for melody generation with an LSTM model. \n",
        "#For training, all examples are transposed to the MIDI pitch range [48, 84].\n",
        "#Outputs will also be in this range. \n",
        "\n",
        "$ melody_rnn_generate \\\n",
        ">--config=basic_rnn \\\n",
        ">--bundle_file=basic_rnn.mag \\\n",
        ">--output_dir=./output/generated \\\n",
        ">--num_outputs=10 \\\n",
        ">--num_steps=128 \\\n",
        ">--primer_melody=\"[60]\"\n",
        "~~~\n",
        "\n",
        "~~~\n",
        "#Introduces custom inputs and labels.\n",
        "#The custom inputs allow the model to more easily recognize patterns that occur across 1 and 2 bars.\n",
        "#This results in melodies that wander less and have a more musical structure. \n",
        "$ melody_rnn_generate \\\n",
        ">--config=lookback_rnn \\\n",
        ">--bundle_file=lookback_rnn.mag \\\n",
        ">--output_dir=./output/lookback \\\n",
        ">--num_outputs=10 \\\n",
        ">--num_steps=128 \\\n",
        ">--primer_melody=\"[60]\"\n",
        "~~~\n",
        "\n",
        "~~~\n",
        "#Allows the model to more easily access past information without having to store that information in the RNN cell’s state.\n",
        "# This allows the model to more easily learn longer term dependencies, and results in melodies that have longer arching themes. \n",
        "$ melody_rnn_generate \\\n",
        ">--config=attention_rnn \\\n",
        ">--bundle_file=attention_rnn.mag \\\n",
        ">--output_dir=./output/attention \\\n",
        ">--num_outputs=10 \\\n",
        ">--num_steps=128 \\\n",
        ">--primer_melody=\"[60]\"\n",
        "~~~\n",
        "\n",
        "**Step 6:** Notice how each model given the same input produces different outputs. \n",
        "\n",
        "**Step 7:** Now try creating a model with a primer midi instead of melody.\n",
        "\n",
        "~~~\n",
        "$ melody_rnn_generate \\\n",
        ">--config=attention_rnn \\\n",
        ">--bundle_file=attention_rnn.mag \\\n",
        ">--output_dir=./output/twinkle-generated \\\n",
        ">--num_outputs=10 \\\n",
        ">--num_steps=128 \\\n",
        ">--primer_midi=twinkle.mid\n",
        "~~~\n",
        "\n"
      ],
      "metadata": {
        "id": "E6RuP7LoA3ne"
      }
    }
  ]
}